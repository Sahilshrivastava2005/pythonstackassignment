{
 "cells": [
  {
   "cell_type": "code",
   "execution_count": 4,
   "id": "ef327626-1dfe-4bba-843c-c03af46c3691",
   "metadata": {},
   "outputs": [
    {
     "name": "stdin",
     "output_type": "stream",
     "text": [
      "enter your number a: 2\n",
      "enter your number b: 3\n"
     ]
    },
    {
     "name": "stdout",
     "output_type": "stream",
     "text": [
      "a= 2 b= 3\n",
      "a= 3 b= 2\n"
     ]
    }
   ],
   "source": [
    "a=int(input(\"enter your number a:\"))\n",
    "b=int(input(\"enter your number b:\"))\n",
    "print(\"a=\",a,\"b=\",b)\n",
    "\n",
    "a,b=b,a\n",
    "print('a=',a,'b=',b)"
   ]
  },
  {
   "cell_type": "code",
   "execution_count": 5,
   "id": "82f1466e-25b5-4598-85f9-e81bbe85e098",
   "metadata": {},
   "outputs": [
    {
     "name": "stdin",
     "output_type": "stream",
     "text": [
      "enter rectangle length: 2\n",
      "enter rectangle wedth: 3\n"
     ]
    },
    {
     "name": "stdout",
     "output_type": "stream",
     "text": [
      "area of rectangle 6\n"
     ]
    }
   ],
   "source": [
    "a=int(input(\"enter rectangle length:\"))\n",
    "b=int(input(\"enter rectangle wedth:\"))\n",
    "print(\"area of rectangle\",a*b)"
   ]
  },
  {
   "cell_type": "code",
   "execution_count": 8,
   "id": "f09ef6e7-8fe3-49e5-bc1b-66fd245d4f84",
   "metadata": {},
   "outputs": [
    {
     "name": "stdin",
     "output_type": "stream",
     "text": [
      "celcius: 23\n"
     ]
    },
    {
     "name": "stdout",
     "output_type": "stream",
     "text": [
      "feranite 73.4\n"
     ]
    }
   ],
   "source": [
    "c=int(input(\"celcius:\"))\n",
    "f=c*180/100+32\n",
    "print(\"feranite\",f)\n"
   ]
  },
  {
   "cell_type": "code",
   "execution_count": 13,
   "id": "2da1585b-b508-45af-8e7d-95ad6f7a2adb",
   "metadata": {},
   "outputs": [
    {
     "name": "stdin",
     "output_type": "stream",
     "text": [
      " sahil\n"
     ]
    },
    {
     "name": "stdout",
     "output_type": "stream",
     "text": [
      "5\n"
     ]
    }
   ],
   "source": [
    "#1. Write a Python program that takes a string as input and prints the length of the string.\n",
    "sahil=str(input())\n",
    "a=len(sahil)\n",
    "print(a)"
   ]
  },
  {
   "cell_type": "code",
   "execution_count": 16,
   "id": "84dcd8fa-9286-447e-a80c-0c982cfea448",
   "metadata": {},
   "outputs": [
    {
     "name": "stdout",
     "output_type": "stream",
     "text": [
      "5\n"
     ]
    }
   ],
   "source": [
    "string = \"GeekforGeeks!\"\n",
    "vowels=\"aeiouAEIOU\"\n",
    " \n",
    "count = sum(string.count(vowel) for vowel in vowels )\n",
    "print(count)\n"
   ]
  },
  {
   "cell_type": "code",
   "execution_count": 20,
   "id": "806a745d-b9e9-4d43-918c-fa98906ec47b",
   "metadata": {},
   "outputs": [
    {
     "name": "stdin",
     "output_type": "stream",
     "text": [
      " mam\n"
     ]
    },
    {
     "name": "stdout",
     "output_type": "stream",
     "text": [
      "mam\n",
      "palindrone\n"
     ]
    }
   ],
   "source": [
    "string=str(input())\n",
    "n=len(string)\n",
    "reverse=string[n-1::-1]\n",
    "print(reverse)\n",
    "if reverse==string:\n",
    "    print(\"palindrone\")\n",
    "else:\n",
    "    print(\"not palindrone\")"
   ]
  },
  {
   "cell_type": "code",
   "execution_count": 26,
   "id": "69d696aa-1956-400a-a40c-690c6acc5796",
   "metadata": {},
   "outputs": [
    {
     "name": "stdin",
     "output_type": "stream",
     "text": [
      " sahil why the \n"
     ]
    },
    {
     "name": "stdout",
     "output_type": "stream",
     "text": [
      "sahilwhythe\n"
     ]
    }
   ],
   "source": [
    "str1=str(input());\n",
    "str1=str1.replace(\" \",\"\");\n",
    "print(str1)"
   ]
  },
  {
   "cell_type": "code",
   "execution_count": null,
   "id": "3f5f6e05-d08a-4abe-9c70-cdc5966cf5f8",
   "metadata": {},
   "outputs": [],
   "source": []
  }
 ],
 "metadata": {
  "kernelspec": {
   "display_name": "Python 3 (ipykernel)",
   "language": "python",
   "name": "python3"
  },
  "language_info": {
   "codemirror_mode": {
    "name": "ipython",
    "version": 3
   },
   "file_extension": ".py",
   "mimetype": "text/x-python",
   "name": "python",
   "nbconvert_exporter": "python",
   "pygments_lexer": "ipython3",
   "version": "3.10.8"
  }
 },
 "nbformat": 4,
 "nbformat_minor": 5
}
